{
 "cells": [
  {
   "cell_type": "code",
   "execution_count": 1,
   "metadata": {},
   "outputs": [],
   "source": [
    "# import modules\n",
    "import time\n",
    "st = time.time()\n",
    "\n",
    "import pandas as pd\n",
    "import matplotlib.pyplot as plt\n",
    "import seaborn as sns"
   ]
  },
  {
   "cell_type": "code",
   "execution_count": 2,
   "metadata": {},
   "outputs": [],
   "source": [
    "# Setting up Dataset\n",
    "df = pd.read_csv(\"https://data.incovid19.org/csv/latest/state_wise_daily.csv\")\n",
    "del df['Date_YMD'] # Delete the extra column\n",
    "df.index = [x for x in range(1, len(df.values) + 1)] # making our index start from 1 instead of 0"
   ]
  },
  {
   "cell_type": "code",
   "execution_count": 3,
   "metadata": {},
   "outputs": [],
   "source": [
    "# Separate DataFrame into three separate dataframes - Confirmed, Recovered and Deceased\n",
    "# Delete Status column\n",
    "confirmed = df[0:len(df):3]\n",
    "del confirmed[\"Status\"]\n",
    "recovered = df[1:len(df):3]\n",
    "del recovered[\"Status\"]\n",
    "deceased = df[2:len(df):3]\n",
    "del deceased[\"Status\"]"
   ]
  },
  {
   "cell_type": "code",
   "execution_count": 4,
   "metadata": {},
   "outputs": [],
   "source": [
    "# Get five dates to show as x labels\n",
    "xlabels = []\n",
    "divise = int(len(confirmed) / 5)\n",
    "for i in range(len(confirmed)):\n",
    "    if i % divise == 0:\n",
    "        xlabels.append(confirmed.iat[i, 0])\n",
    "    elif i == len(confirmed) - 1:\n",
    "        xlabels.append(confirmed.iat[i, 0])\n",
    "    else:\n",
    "        xlabels.append(' ')"
   ]
  },
  {
   "cell_type": "code",
   "execution_count": 5,
   "metadata": {},
   "outputs": [
    {
     "name": "stderr",
     "output_type": "stream",
     "text": [
      "C:\\Users\\Lenovo\\AppData\\Local\\Temp/ipykernel_10372/3134438404.py:10: UserWarning: FixedFormatter should only be used together with FixedLocator\n",
      "  sns.lineplot(x=confirmed['Date'], y=confirmed[colname], ci=None).set_xticklabels(xlabels)\n",
      "C:\\Users\\Lenovo\\AppData\\Local\\Temp/ipykernel_10372/3134438404.py:10: UserWarning: FixedFormatter should only be used together with FixedLocator\n",
      "  sns.lineplot(x=confirmed['Date'], y=confirmed[colname], ci=None).set_xticklabels(xlabels)\n",
      "C:\\Users\\Lenovo\\AppData\\Local\\Temp/ipykernel_10372/3134438404.py:10: UserWarning: FixedFormatter should only be used together with FixedLocator\n",
      "  sns.lineplot(x=confirmed['Date'], y=confirmed[colname], ci=None).set_xticklabels(xlabels)\n",
      "C:\\Users\\Lenovo\\AppData\\Local\\Temp/ipykernel_10372/3134438404.py:10: UserWarning: FixedFormatter should only be used together with FixedLocator\n",
      "  sns.lineplot(x=confirmed['Date'], y=confirmed[colname], ci=None).set_xticklabels(xlabels)\n",
      "C:\\Users\\Lenovo\\AppData\\Local\\Temp/ipykernel_10372/3134438404.py:10: UserWarning: FixedFormatter should only be used together with FixedLocator\n",
      "  sns.lineplot(x=confirmed['Date'], y=confirmed[colname], ci=None).set_xticklabels(xlabels)\n",
      "C:\\Users\\Lenovo\\AppData\\Local\\Temp/ipykernel_10372/3134438404.py:10: UserWarning: FixedFormatter should only be used together with FixedLocator\n",
      "  sns.lineplot(x=confirmed['Date'], y=confirmed[colname], ci=None).set_xticklabels(xlabels)\n",
      "C:\\Users\\Lenovo\\AppData\\Local\\Temp/ipykernel_10372/3134438404.py:10: UserWarning: FixedFormatter should only be used together with FixedLocator\n",
      "  sns.lineplot(x=confirmed['Date'], y=confirmed[colname], ci=None).set_xticklabels(xlabels)\n",
      "C:\\Users\\Lenovo\\AppData\\Local\\Temp/ipykernel_10372/3134438404.py:10: UserWarning: FixedFormatter should only be used together with FixedLocator\n",
      "  sns.lineplot(x=confirmed['Date'], y=confirmed[colname], ci=None).set_xticklabels(xlabels)\n",
      "C:\\Users\\Lenovo\\AppData\\Local\\Temp/ipykernel_10372/3134438404.py:10: UserWarning: FixedFormatter should only be used together with FixedLocator\n",
      "  sns.lineplot(x=confirmed['Date'], y=confirmed[colname], ci=None).set_xticklabels(xlabels)\n",
      "C:\\Users\\Lenovo\\AppData\\Local\\Temp/ipykernel_10372/3134438404.py:10: UserWarning: FixedFormatter should only be used together with FixedLocator\n",
      "  sns.lineplot(x=confirmed['Date'], y=confirmed[colname], ci=None).set_xticklabels(xlabels)\n",
      "C:\\Users\\Lenovo\\AppData\\Local\\Temp/ipykernel_10372/3134438404.py:10: UserWarning: FixedFormatter should only be used together with FixedLocator\n",
      "  sns.lineplot(x=confirmed['Date'], y=confirmed[colname], ci=None).set_xticklabels(xlabels)\n",
      "C:\\Users\\Lenovo\\AppData\\Local\\Temp/ipykernel_10372/3134438404.py:10: UserWarning: FixedFormatter should only be used together with FixedLocator\n",
      "  sns.lineplot(x=confirmed['Date'], y=confirmed[colname], ci=None).set_xticklabels(xlabels)\n",
      "C:\\Users\\Lenovo\\AppData\\Local\\Temp/ipykernel_10372/3134438404.py:10: UserWarning: FixedFormatter should only be used together with FixedLocator\n",
      "  sns.lineplot(x=confirmed['Date'], y=confirmed[colname], ci=None).set_xticklabels(xlabels)\n",
      "C:\\Users\\Lenovo\\AppData\\Local\\Temp/ipykernel_10372/3134438404.py:10: UserWarning: FixedFormatter should only be used together with FixedLocator\n",
      "  sns.lineplot(x=confirmed['Date'], y=confirmed[colname], ci=None).set_xticklabels(xlabels)\n",
      "C:\\Users\\Lenovo\\AppData\\Local\\Temp/ipykernel_10372/3134438404.py:10: UserWarning: FixedFormatter should only be used together with FixedLocator\n",
      "  sns.lineplot(x=confirmed['Date'], y=confirmed[colname], ci=None).set_xticklabels(xlabels)\n",
      "C:\\Users\\Lenovo\\AppData\\Local\\Temp/ipykernel_10372/3134438404.py:10: UserWarning: FixedFormatter should only be used together with FixedLocator\n",
      "  sns.lineplot(x=confirmed['Date'], y=confirmed[colname], ci=None).set_xticklabels(xlabels)\n",
      "C:\\Users\\Lenovo\\AppData\\Local\\Temp/ipykernel_10372/3134438404.py:10: UserWarning: FixedFormatter should only be used together with FixedLocator\n",
      "  sns.lineplot(x=confirmed['Date'], y=confirmed[colname], ci=None).set_xticklabels(xlabels)\n",
      "C:\\Users\\Lenovo\\AppData\\Local\\Temp/ipykernel_10372/3134438404.py:10: UserWarning: FixedFormatter should only be used together with FixedLocator\n",
      "  sns.lineplot(x=confirmed['Date'], y=confirmed[colname], ci=None).set_xticklabels(xlabels)\n",
      "C:\\Users\\Lenovo\\AppData\\Local\\Temp/ipykernel_10372/3134438404.py:10: UserWarning: FixedFormatter should only be used together with FixedLocator\n",
      "  sns.lineplot(x=confirmed['Date'], y=confirmed[colname], ci=None).set_xticklabels(xlabels)\n",
      "C:\\Users\\Lenovo\\AppData\\Local\\Temp/ipykernel_10372/3134438404.py:10: UserWarning: FixedFormatter should only be used together with FixedLocator\n",
      "  sns.lineplot(x=confirmed['Date'], y=confirmed[colname], ci=None).set_xticklabels(xlabels)\n",
      "C:\\Users\\Lenovo\\AppData\\Local\\Temp/ipykernel_10372/3134438404.py:9: RuntimeWarning: More than 20 figures have been opened. Figures created through the pyplot interface (`matplotlib.pyplot.figure`) are retained until explicitly closed and may consume too much memory. (To control this warning, see the rcParam `figure.max_open_warning`).\n",
      "  fig = plt.figure(figsize=(8, 4))\n",
      "C:\\Users\\Lenovo\\AppData\\Local\\Temp/ipykernel_10372/3134438404.py:10: UserWarning: FixedFormatter should only be used together with FixedLocator\n",
      "  sns.lineplot(x=confirmed['Date'], y=confirmed[colname], ci=None).set_xticklabels(xlabels)\n",
      "C:\\Users\\Lenovo\\AppData\\Local\\Temp/ipykernel_10372/3134438404.py:10: UserWarning: FixedFormatter should only be used together with FixedLocator\n",
      "  sns.lineplot(x=confirmed['Date'], y=confirmed[colname], ci=None).set_xticklabels(xlabels)\n",
      "C:\\Users\\Lenovo\\AppData\\Local\\Temp/ipykernel_10372/3134438404.py:10: UserWarning: FixedFormatter should only be used together with FixedLocator\n",
      "  sns.lineplot(x=confirmed['Date'], y=confirmed[colname], ci=None).set_xticklabels(xlabels)\n",
      "C:\\Users\\Lenovo\\AppData\\Local\\Temp/ipykernel_10372/3134438404.py:10: UserWarning: FixedFormatter should only be used together with FixedLocator\n",
      "  sns.lineplot(x=confirmed['Date'], y=confirmed[colname], ci=None).set_xticklabels(xlabels)\n",
      "C:\\Users\\Lenovo\\AppData\\Local\\Temp/ipykernel_10372/3134438404.py:10: UserWarning: FixedFormatter should only be used together with FixedLocator\n",
      "  sns.lineplot(x=confirmed['Date'], y=confirmed[colname], ci=None).set_xticklabels(xlabels)\n",
      "C:\\Users\\Lenovo\\AppData\\Local\\Temp/ipykernel_10372/3134438404.py:10: UserWarning: FixedFormatter should only be used together with FixedLocator\n",
      "  sns.lineplot(x=confirmed['Date'], y=confirmed[colname], ci=None).set_xticklabels(xlabels)\n",
      "C:\\Users\\Lenovo\\AppData\\Local\\Temp/ipykernel_10372/3134438404.py:10: UserWarning: FixedFormatter should only be used together with FixedLocator\n",
      "  sns.lineplot(x=confirmed['Date'], y=confirmed[colname], ci=None).set_xticklabels(xlabels)\n",
      "C:\\Users\\Lenovo\\AppData\\Local\\Temp/ipykernel_10372/3134438404.py:10: UserWarning: FixedFormatter should only be used together with FixedLocator\n",
      "  sns.lineplot(x=confirmed['Date'], y=confirmed[colname], ci=None).set_xticklabels(xlabels)\n",
      "C:\\Users\\Lenovo\\AppData\\Local\\Temp/ipykernel_10372/3134438404.py:10: UserWarning: FixedFormatter should only be used together with FixedLocator\n",
      "  sns.lineplot(x=confirmed['Date'], y=confirmed[colname], ci=None).set_xticklabels(xlabels)\n",
      "C:\\Users\\Lenovo\\AppData\\Local\\Temp/ipykernel_10372/3134438404.py:10: UserWarning: FixedFormatter should only be used together with FixedLocator\n",
      "  sns.lineplot(x=confirmed['Date'], y=confirmed[colname], ci=None).set_xticklabels(xlabels)\n",
      "C:\\Users\\Lenovo\\AppData\\Local\\Temp/ipykernel_10372/3134438404.py:10: UserWarning: FixedFormatter should only be used together with FixedLocator\n",
      "  sns.lineplot(x=confirmed['Date'], y=confirmed[colname], ci=None).set_xticklabels(xlabels)\n",
      "C:\\Users\\Lenovo\\AppData\\Local\\Temp/ipykernel_10372/3134438404.py:10: UserWarning: FixedFormatter should only be used together with FixedLocator\n",
      "  sns.lineplot(x=confirmed['Date'], y=confirmed[colname], ci=None).set_xticklabels(xlabels)\n",
      "C:\\Users\\Lenovo\\AppData\\Local\\Temp/ipykernel_10372/3134438404.py:10: UserWarning: FixedFormatter should only be used together with FixedLocator\n",
      "  sns.lineplot(x=confirmed['Date'], y=confirmed[colname], ci=None).set_xticklabels(xlabels)\n",
      "C:\\Users\\Lenovo\\AppData\\Local\\Temp/ipykernel_10372/3134438404.py:10: UserWarning: FixedFormatter should only be used together with FixedLocator\n",
      "  sns.lineplot(x=confirmed['Date'], y=confirmed[colname], ci=None).set_xticklabels(xlabels)\n",
      "C:\\Users\\Lenovo\\AppData\\Local\\Temp/ipykernel_10372/3134438404.py:10: UserWarning: FixedFormatter should only be used together with FixedLocator\n",
      "  sns.lineplot(x=confirmed['Date'], y=confirmed[colname], ci=None).set_xticklabels(xlabels)\n",
      "C:\\Users\\Lenovo\\AppData\\Local\\Temp/ipykernel_10372/3134438404.py:10: UserWarning: FixedFormatter should only be used together with FixedLocator\n",
      "  sns.lineplot(x=confirmed['Date'], y=confirmed[colname], ci=None).set_xticklabels(xlabels)\n",
      "C:\\Users\\Lenovo\\AppData\\Local\\Temp/ipykernel_10372/3134438404.py:10: UserWarning: FixedFormatter should only be used together with FixedLocator\n",
      "  sns.lineplot(x=confirmed['Date'], y=confirmed[colname], ci=None).set_xticklabels(xlabels)\n"
     ]
    },
    {
     "data": {
      "text/plain": [
       "<Figure size 576x288 with 0 Axes>"
      ]
     },
     "metadata": {},
     "output_type": "display_data"
    },
    {
     "data": {
      "text/plain": [
       "<Figure size 576x288 with 0 Axes>"
      ]
     },
     "metadata": {},
     "output_type": "display_data"
    },
    {
     "data": {
      "text/plain": [
       "<Figure size 576x288 with 0 Axes>"
      ]
     },
     "metadata": {},
     "output_type": "display_data"
    },
    {
     "data": {
      "text/plain": [
       "<Figure size 576x288 with 0 Axes>"
      ]
     },
     "metadata": {},
     "output_type": "display_data"
    },
    {
     "data": {
      "text/plain": [
       "<Figure size 576x288 with 0 Axes>"
      ]
     },
     "metadata": {},
     "output_type": "display_data"
    },
    {
     "data": {
      "text/plain": [
       "<Figure size 576x288 with 0 Axes>"
      ]
     },
     "metadata": {},
     "output_type": "display_data"
    },
    {
     "data": {
      "text/plain": [
       "<Figure size 576x288 with 0 Axes>"
      ]
     },
     "metadata": {},
     "output_type": "display_data"
    },
    {
     "data": {
      "text/plain": [
       "<Figure size 576x288 with 0 Axes>"
      ]
     },
     "metadata": {},
     "output_type": "display_data"
    },
    {
     "data": {
      "text/plain": [
       "<Figure size 576x288 with 0 Axes>"
      ]
     },
     "metadata": {},
     "output_type": "display_data"
    },
    {
     "data": {
      "text/plain": [
       "<Figure size 576x288 with 0 Axes>"
      ]
     },
     "metadata": {},
     "output_type": "display_data"
    },
    {
     "data": {
      "text/plain": [
       "<Figure size 576x288 with 0 Axes>"
      ]
     },
     "metadata": {},
     "output_type": "display_data"
    },
    {
     "data": {
      "text/plain": [
       "<Figure size 576x288 with 0 Axes>"
      ]
     },
     "metadata": {},
     "output_type": "display_data"
    },
    {
     "data": {
      "text/plain": [
       "<Figure size 576x288 with 0 Axes>"
      ]
     },
     "metadata": {},
     "output_type": "display_data"
    },
    {
     "data": {
      "text/plain": [
       "<Figure size 576x288 with 0 Axes>"
      ]
     },
     "metadata": {},
     "output_type": "display_data"
    },
    {
     "data": {
      "text/plain": [
       "<Figure size 576x288 with 0 Axes>"
      ]
     },
     "metadata": {},
     "output_type": "display_data"
    },
    {
     "data": {
      "text/plain": [
       "<Figure size 576x288 with 0 Axes>"
      ]
     },
     "metadata": {},
     "output_type": "display_data"
    },
    {
     "data": {
      "text/plain": [
       "<Figure size 576x288 with 0 Axes>"
      ]
     },
     "metadata": {},
     "output_type": "display_data"
    },
    {
     "data": {
      "text/plain": [
       "<Figure size 576x288 with 0 Axes>"
      ]
     },
     "metadata": {},
     "output_type": "display_data"
    },
    {
     "data": {
      "text/plain": [
       "<Figure size 576x288 with 0 Axes>"
      ]
     },
     "metadata": {},
     "output_type": "display_data"
    },
    {
     "data": {
      "text/plain": [
       "<Figure size 576x288 with 0 Axes>"
      ]
     },
     "metadata": {},
     "output_type": "display_data"
    },
    {
     "data": {
      "text/plain": [
       "<Figure size 576x288 with 0 Axes>"
      ]
     },
     "metadata": {},
     "output_type": "display_data"
    },
    {
     "data": {
      "text/plain": [
       "<Figure size 576x288 with 0 Axes>"
      ]
     },
     "metadata": {},
     "output_type": "display_data"
    },
    {
     "data": {
      "text/plain": [
       "<Figure size 576x288 with 0 Axes>"
      ]
     },
     "metadata": {},
     "output_type": "display_data"
    },
    {
     "data": {
      "text/plain": [
       "<Figure size 576x288 with 0 Axes>"
      ]
     },
     "metadata": {},
     "output_type": "display_data"
    },
    {
     "data": {
      "text/plain": [
       "<Figure size 576x288 with 0 Axes>"
      ]
     },
     "metadata": {},
     "output_type": "display_data"
    },
    {
     "data": {
      "text/plain": [
       "<Figure size 576x288 with 0 Axes>"
      ]
     },
     "metadata": {},
     "output_type": "display_data"
    },
    {
     "data": {
      "text/plain": [
       "<Figure size 576x288 with 0 Axes>"
      ]
     },
     "metadata": {},
     "output_type": "display_data"
    },
    {
     "data": {
      "text/plain": [
       "<Figure size 576x288 with 0 Axes>"
      ]
     },
     "metadata": {},
     "output_type": "display_data"
    },
    {
     "data": {
      "text/plain": [
       "<Figure size 576x288 with 0 Axes>"
      ]
     },
     "metadata": {},
     "output_type": "display_data"
    },
    {
     "data": {
      "text/plain": [
       "<Figure size 576x288 with 0 Axes>"
      ]
     },
     "metadata": {},
     "output_type": "display_data"
    },
    {
     "data": {
      "text/plain": [
       "<Figure size 576x288 with 0 Axes>"
      ]
     },
     "metadata": {},
     "output_type": "display_data"
    },
    {
     "data": {
      "text/plain": [
       "<Figure size 576x288 with 0 Axes>"
      ]
     },
     "metadata": {},
     "output_type": "display_data"
    },
    {
     "data": {
      "text/plain": [
       "<Figure size 576x288 with 0 Axes>"
      ]
     },
     "metadata": {},
     "output_type": "display_data"
    },
    {
     "data": {
      "text/plain": [
       "<Figure size 576x288 with 0 Axes>"
      ]
     },
     "metadata": {},
     "output_type": "display_data"
    },
    {
     "data": {
      "text/plain": [
       "<Figure size 576x288 with 0 Axes>"
      ]
     },
     "metadata": {},
     "output_type": "display_data"
    },
    {
     "data": {
      "text/plain": [
       "<Figure size 576x288 with 0 Axes>"
      ]
     },
     "metadata": {},
     "output_type": "display_data"
    },
    {
     "data": {
      "text/plain": [
       "<Figure size 576x288 with 0 Axes>"
      ]
     },
     "metadata": {},
     "output_type": "display_data"
    }
   ],
   "source": [
    "# Make graphs for confirmed and save an image\n",
    "for j in range(len(confirmed.columns)):\n",
    "    if j == 0: # seeing if it is date column\n",
    "        continue\n",
    "\n",
    "    colname = confirmed.columns[j]\n",
    "    fname = f'imgs/confirmed-{colname}.png'\n",
    "\n",
    "    fig = plt.figure(figsize=(8, 4))\n",
    "    sns.lineplot(x=confirmed['Date'], y=confirmed[colname], ci=None).set_xticklabels(xlabels)\n",
    "    fig.savefig(fname)\n",
    "    plt.clf()"
   ]
  },
  {
   "cell_type": "code",
   "execution_count": 6,
   "metadata": {},
   "outputs": [
    {
     "name": "stderr",
     "output_type": "stream",
     "text": [
      "C:\\Users\\Lenovo\\AppData\\Local\\Temp/ipykernel_10372/1784628782.py:10: UserWarning: FixedFormatter should only be used together with FixedLocator\n",
      "  sns.lineplot(x=recovered['Date'], y=recovered[colname], ci=None).set_xticklabels(xlabels)\n",
      "C:\\Users\\Lenovo\\AppData\\Local\\Temp/ipykernel_10372/1784628782.py:10: UserWarning: FixedFormatter should only be used together with FixedLocator\n",
      "  sns.lineplot(x=recovered['Date'], y=recovered[colname], ci=None).set_xticklabels(xlabels)\n",
      "C:\\Users\\Lenovo\\AppData\\Local\\Temp/ipykernel_10372/1784628782.py:10: UserWarning: FixedFormatter should only be used together with FixedLocator\n",
      "  sns.lineplot(x=recovered['Date'], y=recovered[colname], ci=None).set_xticklabels(xlabels)\n",
      "C:\\Users\\Lenovo\\AppData\\Local\\Temp/ipykernel_10372/1784628782.py:10: UserWarning: FixedFormatter should only be used together with FixedLocator\n",
      "  sns.lineplot(x=recovered['Date'], y=recovered[colname], ci=None).set_xticklabels(xlabels)\n",
      "C:\\Users\\Lenovo\\AppData\\Local\\Temp/ipykernel_10372/1784628782.py:10: UserWarning: FixedFormatter should only be used together with FixedLocator\n",
      "  sns.lineplot(x=recovered['Date'], y=recovered[colname], ci=None).set_xticklabels(xlabels)\n",
      "C:\\Users\\Lenovo\\AppData\\Local\\Temp/ipykernel_10372/1784628782.py:10: UserWarning: FixedFormatter should only be used together with FixedLocator\n",
      "  sns.lineplot(x=recovered['Date'], y=recovered[colname], ci=None).set_xticklabels(xlabels)\n",
      "C:\\Users\\Lenovo\\AppData\\Local\\Temp/ipykernel_10372/1784628782.py:10: UserWarning: FixedFormatter should only be used together with FixedLocator\n",
      "  sns.lineplot(x=recovered['Date'], y=recovered[colname], ci=None).set_xticklabels(xlabels)\n",
      "C:\\Users\\Lenovo\\AppData\\Local\\Temp/ipykernel_10372/1784628782.py:10: UserWarning: FixedFormatter should only be used together with FixedLocator\n",
      "  sns.lineplot(x=recovered['Date'], y=recovered[colname], ci=None).set_xticklabels(xlabels)\n",
      "C:\\Users\\Lenovo\\AppData\\Local\\Temp/ipykernel_10372/1784628782.py:10: UserWarning: FixedFormatter should only be used together with FixedLocator\n",
      "  sns.lineplot(x=recovered['Date'], y=recovered[colname], ci=None).set_xticklabels(xlabels)\n",
      "C:\\Users\\Lenovo\\AppData\\Local\\Temp/ipykernel_10372/1784628782.py:10: UserWarning: FixedFormatter should only be used together with FixedLocator\n",
      "  sns.lineplot(x=recovered['Date'], y=recovered[colname], ci=None).set_xticklabels(xlabels)\n",
      "C:\\Users\\Lenovo\\AppData\\Local\\Temp/ipykernel_10372/1784628782.py:10: UserWarning: FixedFormatter should only be used together with FixedLocator\n",
      "  sns.lineplot(x=recovered['Date'], y=recovered[colname], ci=None).set_xticklabels(xlabels)\n",
      "C:\\Users\\Lenovo\\AppData\\Local\\Temp/ipykernel_10372/1784628782.py:10: UserWarning: FixedFormatter should only be used together with FixedLocator\n",
      "  sns.lineplot(x=recovered['Date'], y=recovered[colname], ci=None).set_xticklabels(xlabels)\n",
      "C:\\Users\\Lenovo\\AppData\\Local\\Temp/ipykernel_10372/1784628782.py:10: UserWarning: FixedFormatter should only be used together with FixedLocator\n",
      "  sns.lineplot(x=recovered['Date'], y=recovered[colname], ci=None).set_xticklabels(xlabels)\n",
      "C:\\Users\\Lenovo\\AppData\\Local\\Temp/ipykernel_10372/1784628782.py:10: UserWarning: FixedFormatter should only be used together with FixedLocator\n",
      "  sns.lineplot(x=recovered['Date'], y=recovered[colname], ci=None).set_xticklabels(xlabels)\n",
      "C:\\Users\\Lenovo\\AppData\\Local\\Temp/ipykernel_10372/1784628782.py:10: UserWarning: FixedFormatter should only be used together with FixedLocator\n",
      "  sns.lineplot(x=recovered['Date'], y=recovered[colname], ci=None).set_xticklabels(xlabels)\n",
      "C:\\Users\\Lenovo\\AppData\\Local\\Temp/ipykernel_10372/1784628782.py:10: UserWarning: FixedFormatter should only be used together with FixedLocator\n",
      "  sns.lineplot(x=recovered['Date'], y=recovered[colname], ci=None).set_xticklabels(xlabels)\n",
      "C:\\Users\\Lenovo\\AppData\\Local\\Temp/ipykernel_10372/1784628782.py:10: UserWarning: FixedFormatter should only be used together with FixedLocator\n",
      "  sns.lineplot(x=recovered['Date'], y=recovered[colname], ci=None).set_xticklabels(xlabels)\n",
      "C:\\Users\\Lenovo\\AppData\\Local\\Temp/ipykernel_10372/1784628782.py:10: UserWarning: FixedFormatter should only be used together with FixedLocator\n",
      "  sns.lineplot(x=recovered['Date'], y=recovered[colname], ci=None).set_xticklabels(xlabels)\n",
      "C:\\Users\\Lenovo\\AppData\\Local\\Temp/ipykernel_10372/1784628782.py:10: UserWarning: FixedFormatter should only be used together with FixedLocator\n",
      "  sns.lineplot(x=recovered['Date'], y=recovered[colname], ci=None).set_xticklabels(xlabels)\n",
      "C:\\Users\\Lenovo\\AppData\\Local\\Temp/ipykernel_10372/1784628782.py:10: UserWarning: FixedFormatter should only be used together with FixedLocator\n",
      "  sns.lineplot(x=recovered['Date'], y=recovered[colname], ci=None).set_xticklabels(xlabels)\n",
      "C:\\Users\\Lenovo\\AppData\\Local\\Temp/ipykernel_10372/1784628782.py:9: RuntimeWarning: More than 20 figures have been opened. Figures created through the pyplot interface (`matplotlib.pyplot.figure`) are retained until explicitly closed and may consume too much memory. (To control this warning, see the rcParam `figure.max_open_warning`).\n",
      "  fig = plt.figure(figsize=(8, 4))\n",
      "C:\\Users\\Lenovo\\AppData\\Local\\Temp/ipykernel_10372/1784628782.py:10: UserWarning: FixedFormatter should only be used together with FixedLocator\n",
      "  sns.lineplot(x=recovered['Date'], y=recovered[colname], ci=None).set_xticklabels(xlabels)\n",
      "C:\\Users\\Lenovo\\AppData\\Local\\Temp/ipykernel_10372/1784628782.py:10: UserWarning: FixedFormatter should only be used together with FixedLocator\n",
      "  sns.lineplot(x=recovered['Date'], y=recovered[colname], ci=None).set_xticklabels(xlabels)\n",
      "C:\\Users\\Lenovo\\AppData\\Local\\Temp/ipykernel_10372/1784628782.py:10: UserWarning: FixedFormatter should only be used together with FixedLocator\n",
      "  sns.lineplot(x=recovered['Date'], y=recovered[colname], ci=None).set_xticklabels(xlabels)\n",
      "C:\\Users\\Lenovo\\AppData\\Local\\Temp/ipykernel_10372/1784628782.py:10: UserWarning: FixedFormatter should only be used together with FixedLocator\n",
      "  sns.lineplot(x=recovered['Date'], y=recovered[colname], ci=None).set_xticklabels(xlabels)\n",
      "C:\\Users\\Lenovo\\AppData\\Local\\Temp/ipykernel_10372/1784628782.py:10: UserWarning: FixedFormatter should only be used together with FixedLocator\n",
      "  sns.lineplot(x=recovered['Date'], y=recovered[colname], ci=None).set_xticklabels(xlabels)\n",
      "C:\\Users\\Lenovo\\AppData\\Local\\Temp/ipykernel_10372/1784628782.py:10: UserWarning: FixedFormatter should only be used together with FixedLocator\n",
      "  sns.lineplot(x=recovered['Date'], y=recovered[colname], ci=None).set_xticklabels(xlabels)\n",
      "C:\\Users\\Lenovo\\AppData\\Local\\Temp/ipykernel_10372/1784628782.py:10: UserWarning: FixedFormatter should only be used together with FixedLocator\n",
      "  sns.lineplot(x=recovered['Date'], y=recovered[colname], ci=None).set_xticklabels(xlabels)\n",
      "C:\\Users\\Lenovo\\AppData\\Local\\Temp/ipykernel_10372/1784628782.py:10: UserWarning: FixedFormatter should only be used together with FixedLocator\n",
      "  sns.lineplot(x=recovered['Date'], y=recovered[colname], ci=None).set_xticklabels(xlabels)\n",
      "C:\\Users\\Lenovo\\AppData\\Local\\Temp/ipykernel_10372/1784628782.py:10: UserWarning: FixedFormatter should only be used together with FixedLocator\n",
      "  sns.lineplot(x=recovered['Date'], y=recovered[colname], ci=None).set_xticklabels(xlabels)\n",
      "C:\\Users\\Lenovo\\AppData\\Local\\Temp/ipykernel_10372/1784628782.py:10: UserWarning: FixedFormatter should only be used together with FixedLocator\n",
      "  sns.lineplot(x=recovered['Date'], y=recovered[colname], ci=None).set_xticklabels(xlabels)\n",
      "C:\\Users\\Lenovo\\AppData\\Local\\Temp/ipykernel_10372/1784628782.py:10: UserWarning: FixedFormatter should only be used together with FixedLocator\n",
      "  sns.lineplot(x=recovered['Date'], y=recovered[colname], ci=None).set_xticklabels(xlabels)\n",
      "C:\\Users\\Lenovo\\AppData\\Local\\Temp/ipykernel_10372/1784628782.py:10: UserWarning: FixedFormatter should only be used together with FixedLocator\n",
      "  sns.lineplot(x=recovered['Date'], y=recovered[colname], ci=None).set_xticklabels(xlabels)\n",
      "C:\\Users\\Lenovo\\AppData\\Local\\Temp/ipykernel_10372/1784628782.py:10: UserWarning: FixedFormatter should only be used together with FixedLocator\n",
      "  sns.lineplot(x=recovered['Date'], y=recovered[colname], ci=None).set_xticklabels(xlabels)\n",
      "C:\\Users\\Lenovo\\AppData\\Local\\Temp/ipykernel_10372/1784628782.py:10: UserWarning: FixedFormatter should only be used together with FixedLocator\n",
      "  sns.lineplot(x=recovered['Date'], y=recovered[colname], ci=None).set_xticklabels(xlabels)\n",
      "C:\\Users\\Lenovo\\AppData\\Local\\Temp/ipykernel_10372/1784628782.py:10: UserWarning: FixedFormatter should only be used together with FixedLocator\n",
      "  sns.lineplot(x=recovered['Date'], y=recovered[colname], ci=None).set_xticklabels(xlabels)\n",
      "C:\\Users\\Lenovo\\AppData\\Local\\Temp/ipykernel_10372/1784628782.py:10: UserWarning: FixedFormatter should only be used together with FixedLocator\n",
      "  sns.lineplot(x=recovered['Date'], y=recovered[colname], ci=None).set_xticklabels(xlabels)\n",
      "C:\\Users\\Lenovo\\AppData\\Local\\Temp/ipykernel_10372/1784628782.py:10: UserWarning: FixedFormatter should only be used together with FixedLocator\n",
      "  sns.lineplot(x=recovered['Date'], y=recovered[colname], ci=None).set_xticklabels(xlabels)\n"
     ]
    },
    {
     "data": {
      "text/plain": [
       "<Figure size 576x288 with 0 Axes>"
      ]
     },
     "metadata": {},
     "output_type": "display_data"
    },
    {
     "data": {
      "text/plain": [
       "<Figure size 576x288 with 0 Axes>"
      ]
     },
     "metadata": {},
     "output_type": "display_data"
    },
    {
     "data": {
      "text/plain": [
       "<Figure size 576x288 with 0 Axes>"
      ]
     },
     "metadata": {},
     "output_type": "display_data"
    },
    {
     "data": {
      "text/plain": [
       "<Figure size 576x288 with 0 Axes>"
      ]
     },
     "metadata": {},
     "output_type": "display_data"
    },
    {
     "data": {
      "text/plain": [
       "<Figure size 576x288 with 0 Axes>"
      ]
     },
     "metadata": {},
     "output_type": "display_data"
    },
    {
     "data": {
      "text/plain": [
       "<Figure size 576x288 with 0 Axes>"
      ]
     },
     "metadata": {},
     "output_type": "display_data"
    },
    {
     "data": {
      "text/plain": [
       "<Figure size 576x288 with 0 Axes>"
      ]
     },
     "metadata": {},
     "output_type": "display_data"
    },
    {
     "data": {
      "text/plain": [
       "<Figure size 576x288 with 0 Axes>"
      ]
     },
     "metadata": {},
     "output_type": "display_data"
    },
    {
     "data": {
      "text/plain": [
       "<Figure size 576x288 with 0 Axes>"
      ]
     },
     "metadata": {},
     "output_type": "display_data"
    },
    {
     "data": {
      "text/plain": [
       "<Figure size 576x288 with 0 Axes>"
      ]
     },
     "metadata": {},
     "output_type": "display_data"
    },
    {
     "data": {
      "text/plain": [
       "<Figure size 576x288 with 0 Axes>"
      ]
     },
     "metadata": {},
     "output_type": "display_data"
    },
    {
     "data": {
      "text/plain": [
       "<Figure size 576x288 with 0 Axes>"
      ]
     },
     "metadata": {},
     "output_type": "display_data"
    },
    {
     "data": {
      "text/plain": [
       "<Figure size 576x288 with 0 Axes>"
      ]
     },
     "metadata": {},
     "output_type": "display_data"
    },
    {
     "data": {
      "text/plain": [
       "<Figure size 576x288 with 0 Axes>"
      ]
     },
     "metadata": {},
     "output_type": "display_data"
    },
    {
     "data": {
      "text/plain": [
       "<Figure size 576x288 with 0 Axes>"
      ]
     },
     "metadata": {},
     "output_type": "display_data"
    },
    {
     "data": {
      "text/plain": [
       "<Figure size 576x288 with 0 Axes>"
      ]
     },
     "metadata": {},
     "output_type": "display_data"
    },
    {
     "data": {
      "text/plain": [
       "<Figure size 576x288 with 0 Axes>"
      ]
     },
     "metadata": {},
     "output_type": "display_data"
    },
    {
     "data": {
      "text/plain": [
       "<Figure size 576x288 with 0 Axes>"
      ]
     },
     "metadata": {},
     "output_type": "display_data"
    },
    {
     "data": {
      "text/plain": [
       "<Figure size 576x288 with 0 Axes>"
      ]
     },
     "metadata": {},
     "output_type": "display_data"
    },
    {
     "data": {
      "text/plain": [
       "<Figure size 576x288 with 0 Axes>"
      ]
     },
     "metadata": {},
     "output_type": "display_data"
    },
    {
     "data": {
      "text/plain": [
       "<Figure size 576x288 with 0 Axes>"
      ]
     },
     "metadata": {},
     "output_type": "display_data"
    },
    {
     "data": {
      "text/plain": [
       "<Figure size 576x288 with 0 Axes>"
      ]
     },
     "metadata": {},
     "output_type": "display_data"
    },
    {
     "data": {
      "text/plain": [
       "<Figure size 576x288 with 0 Axes>"
      ]
     },
     "metadata": {},
     "output_type": "display_data"
    },
    {
     "data": {
      "text/plain": [
       "<Figure size 576x288 with 0 Axes>"
      ]
     },
     "metadata": {},
     "output_type": "display_data"
    },
    {
     "data": {
      "text/plain": [
       "<Figure size 576x288 with 0 Axes>"
      ]
     },
     "metadata": {},
     "output_type": "display_data"
    },
    {
     "data": {
      "text/plain": [
       "<Figure size 576x288 with 0 Axes>"
      ]
     },
     "metadata": {},
     "output_type": "display_data"
    },
    {
     "data": {
      "text/plain": [
       "<Figure size 576x288 with 0 Axes>"
      ]
     },
     "metadata": {},
     "output_type": "display_data"
    },
    {
     "data": {
      "text/plain": [
       "<Figure size 576x288 with 0 Axes>"
      ]
     },
     "metadata": {},
     "output_type": "display_data"
    },
    {
     "data": {
      "text/plain": [
       "<Figure size 576x288 with 0 Axes>"
      ]
     },
     "metadata": {},
     "output_type": "display_data"
    },
    {
     "data": {
      "text/plain": [
       "<Figure size 576x288 with 0 Axes>"
      ]
     },
     "metadata": {},
     "output_type": "display_data"
    },
    {
     "data": {
      "text/plain": [
       "<Figure size 576x288 with 0 Axes>"
      ]
     },
     "metadata": {},
     "output_type": "display_data"
    },
    {
     "data": {
      "text/plain": [
       "<Figure size 576x288 with 0 Axes>"
      ]
     },
     "metadata": {},
     "output_type": "display_data"
    },
    {
     "data": {
      "text/plain": [
       "<Figure size 576x288 with 0 Axes>"
      ]
     },
     "metadata": {},
     "output_type": "display_data"
    },
    {
     "data": {
      "text/plain": [
       "<Figure size 576x288 with 0 Axes>"
      ]
     },
     "metadata": {},
     "output_type": "display_data"
    },
    {
     "data": {
      "text/plain": [
       "<Figure size 576x288 with 0 Axes>"
      ]
     },
     "metadata": {},
     "output_type": "display_data"
    },
    {
     "data": {
      "text/plain": [
       "<Figure size 576x288 with 0 Axes>"
      ]
     },
     "metadata": {},
     "output_type": "display_data"
    },
    {
     "data": {
      "text/plain": [
       "<Figure size 576x288 with 0 Axes>"
      ]
     },
     "metadata": {},
     "output_type": "display_data"
    }
   ],
   "source": [
    "# Make graphs for recovered and save an image\n",
    "for j in range(len(recovered.columns)):\n",
    "    if j == 0: # seeing if it is date column\n",
    "        continue\n",
    "\n",
    "    colname = recovered.columns[j]\n",
    "    fname = f'imgs/recovered-{colname}.png'\n",
    "\n",
    "    fig = plt.figure(figsize=(8, 4))\n",
    "    sns.lineplot(x=recovered['Date'], y=recovered[colname], ci=None).set_xticklabels(xlabels)\n",
    "    fig.savefig(fname)\n",
    "    plt.clf()\n"
   ]
  },
  {
   "cell_type": "code",
   "execution_count": 7,
   "metadata": {},
   "outputs": [
    {
     "name": "stderr",
     "output_type": "stream",
     "text": [
      "C:\\Users\\Lenovo\\AppData\\Local\\Temp/ipykernel_10372/2509959811.py:10: UserWarning: FixedFormatter should only be used together with FixedLocator\n",
      "  sns.lineplot(x=deceased['Date'], y=deceased[colname], ci=None).set_xticklabels(xlabels)\n",
      "C:\\Users\\Lenovo\\AppData\\Local\\Temp/ipykernel_10372/2509959811.py:10: UserWarning: FixedFormatter should only be used together with FixedLocator\n",
      "  sns.lineplot(x=deceased['Date'], y=deceased[colname], ci=None).set_xticklabels(xlabels)\n",
      "C:\\Users\\Lenovo\\AppData\\Local\\Temp/ipykernel_10372/2509959811.py:10: UserWarning: FixedFormatter should only be used together with FixedLocator\n",
      "  sns.lineplot(x=deceased['Date'], y=deceased[colname], ci=None).set_xticklabels(xlabels)\n",
      "C:\\Users\\Lenovo\\AppData\\Local\\Temp/ipykernel_10372/2509959811.py:10: UserWarning: FixedFormatter should only be used together with FixedLocator\n",
      "  sns.lineplot(x=deceased['Date'], y=deceased[colname], ci=None).set_xticklabels(xlabels)\n",
      "C:\\Users\\Lenovo\\AppData\\Local\\Temp/ipykernel_10372/2509959811.py:10: UserWarning: FixedFormatter should only be used together with FixedLocator\n",
      "  sns.lineplot(x=deceased['Date'], y=deceased[colname], ci=None).set_xticklabels(xlabels)\n",
      "C:\\Users\\Lenovo\\AppData\\Local\\Temp/ipykernel_10372/2509959811.py:10: UserWarning: FixedFormatter should only be used together with FixedLocator\n",
      "  sns.lineplot(x=deceased['Date'], y=deceased[colname], ci=None).set_xticklabels(xlabels)\n",
      "C:\\Users\\Lenovo\\AppData\\Local\\Temp/ipykernel_10372/2509959811.py:10: UserWarning: FixedFormatter should only be used together with FixedLocator\n",
      "  sns.lineplot(x=deceased['Date'], y=deceased[colname], ci=None).set_xticklabels(xlabels)\n",
      "C:\\Users\\Lenovo\\AppData\\Local\\Temp/ipykernel_10372/2509959811.py:10: UserWarning: FixedFormatter should only be used together with FixedLocator\n",
      "  sns.lineplot(x=deceased['Date'], y=deceased[colname], ci=None).set_xticklabels(xlabels)\n",
      "C:\\Users\\Lenovo\\AppData\\Local\\Temp/ipykernel_10372/2509959811.py:10: UserWarning: FixedFormatter should only be used together with FixedLocator\n",
      "  sns.lineplot(x=deceased['Date'], y=deceased[colname], ci=None).set_xticklabels(xlabels)\n",
      "C:\\Users\\Lenovo\\AppData\\Local\\Temp/ipykernel_10372/2509959811.py:10: UserWarning: FixedFormatter should only be used together with FixedLocator\n",
      "  sns.lineplot(x=deceased['Date'], y=deceased[colname], ci=None).set_xticklabels(xlabels)\n",
      "C:\\Users\\Lenovo\\AppData\\Local\\Temp/ipykernel_10372/2509959811.py:10: UserWarning: FixedFormatter should only be used together with FixedLocator\n",
      "  sns.lineplot(x=deceased['Date'], y=deceased[colname], ci=None).set_xticklabels(xlabels)\n",
      "C:\\Users\\Lenovo\\AppData\\Local\\Temp/ipykernel_10372/2509959811.py:10: UserWarning: FixedFormatter should only be used together with FixedLocator\n",
      "  sns.lineplot(x=deceased['Date'], y=deceased[colname], ci=None).set_xticklabels(xlabels)\n",
      "C:\\Users\\Lenovo\\AppData\\Local\\Temp/ipykernel_10372/2509959811.py:10: UserWarning: FixedFormatter should only be used together with FixedLocator\n",
      "  sns.lineplot(x=deceased['Date'], y=deceased[colname], ci=None).set_xticklabels(xlabels)\n",
      "C:\\Users\\Lenovo\\AppData\\Local\\Temp/ipykernel_10372/2509959811.py:10: UserWarning: FixedFormatter should only be used together with FixedLocator\n",
      "  sns.lineplot(x=deceased['Date'], y=deceased[colname], ci=None).set_xticklabels(xlabels)\n",
      "C:\\Users\\Lenovo\\AppData\\Local\\Temp/ipykernel_10372/2509959811.py:10: UserWarning: FixedFormatter should only be used together with FixedLocator\n",
      "  sns.lineplot(x=deceased['Date'], y=deceased[colname], ci=None).set_xticklabels(xlabels)\n",
      "C:\\Users\\Lenovo\\AppData\\Local\\Temp/ipykernel_10372/2509959811.py:10: UserWarning: FixedFormatter should only be used together with FixedLocator\n",
      "  sns.lineplot(x=deceased['Date'], y=deceased[colname], ci=None).set_xticklabels(xlabels)\n",
      "C:\\Users\\Lenovo\\AppData\\Local\\Temp/ipykernel_10372/2509959811.py:10: UserWarning: FixedFormatter should only be used together with FixedLocator\n",
      "  sns.lineplot(x=deceased['Date'], y=deceased[colname], ci=None).set_xticklabels(xlabels)\n",
      "C:\\Users\\Lenovo\\AppData\\Local\\Temp/ipykernel_10372/2509959811.py:10: UserWarning: FixedFormatter should only be used together with FixedLocator\n",
      "  sns.lineplot(x=deceased['Date'], y=deceased[colname], ci=None).set_xticklabels(xlabels)\n",
      "C:\\Users\\Lenovo\\AppData\\Local\\Temp/ipykernel_10372/2509959811.py:10: UserWarning: FixedFormatter should only be used together with FixedLocator\n",
      "  sns.lineplot(x=deceased['Date'], y=deceased[colname], ci=None).set_xticklabels(xlabels)\n",
      "C:\\Users\\Lenovo\\AppData\\Local\\Temp/ipykernel_10372/2509959811.py:10: UserWarning: FixedFormatter should only be used together with FixedLocator\n",
      "  sns.lineplot(x=deceased['Date'], y=deceased[colname], ci=None).set_xticklabels(xlabels)\n",
      "C:\\Users\\Lenovo\\AppData\\Local\\Temp/ipykernel_10372/2509959811.py:9: RuntimeWarning: More than 20 figures have been opened. Figures created through the pyplot interface (`matplotlib.pyplot.figure`) are retained until explicitly closed and may consume too much memory. (To control this warning, see the rcParam `figure.max_open_warning`).\n",
      "  fig = plt.figure(figsize=(8, 4))\n",
      "C:\\Users\\Lenovo\\AppData\\Local\\Temp/ipykernel_10372/2509959811.py:10: UserWarning: FixedFormatter should only be used together with FixedLocator\n",
      "  sns.lineplot(x=deceased['Date'], y=deceased[colname], ci=None).set_xticklabels(xlabels)\n",
      "C:\\Users\\Lenovo\\AppData\\Local\\Temp/ipykernel_10372/2509959811.py:10: UserWarning: FixedFormatter should only be used together with FixedLocator\n",
      "  sns.lineplot(x=deceased['Date'], y=deceased[colname], ci=None).set_xticklabels(xlabels)\n",
      "C:\\Users\\Lenovo\\AppData\\Local\\Temp/ipykernel_10372/2509959811.py:10: UserWarning: FixedFormatter should only be used together with FixedLocator\n",
      "  sns.lineplot(x=deceased['Date'], y=deceased[colname], ci=None).set_xticklabels(xlabels)\n",
      "C:\\Users\\Lenovo\\AppData\\Local\\Temp/ipykernel_10372/2509959811.py:10: UserWarning: FixedFormatter should only be used together with FixedLocator\n",
      "  sns.lineplot(x=deceased['Date'], y=deceased[colname], ci=None).set_xticklabels(xlabels)\n",
      "C:\\Users\\Lenovo\\AppData\\Local\\Temp/ipykernel_10372/2509959811.py:10: UserWarning: FixedFormatter should only be used together with FixedLocator\n",
      "  sns.lineplot(x=deceased['Date'], y=deceased[colname], ci=None).set_xticklabels(xlabels)\n",
      "C:\\Users\\Lenovo\\AppData\\Local\\Temp/ipykernel_10372/2509959811.py:10: UserWarning: FixedFormatter should only be used together with FixedLocator\n",
      "  sns.lineplot(x=deceased['Date'], y=deceased[colname], ci=None).set_xticklabels(xlabels)\n",
      "C:\\Users\\Lenovo\\AppData\\Local\\Temp/ipykernel_10372/2509959811.py:10: UserWarning: FixedFormatter should only be used together with FixedLocator\n",
      "  sns.lineplot(x=deceased['Date'], y=deceased[colname], ci=None).set_xticklabels(xlabels)\n",
      "C:\\Users\\Lenovo\\AppData\\Local\\Temp/ipykernel_10372/2509959811.py:10: UserWarning: FixedFormatter should only be used together with FixedLocator\n",
      "  sns.lineplot(x=deceased['Date'], y=deceased[colname], ci=None).set_xticklabels(xlabels)\n",
      "C:\\Users\\Lenovo\\AppData\\Local\\Temp/ipykernel_10372/2509959811.py:10: UserWarning: FixedFormatter should only be used together with FixedLocator\n",
      "  sns.lineplot(x=deceased['Date'], y=deceased[colname], ci=None).set_xticklabels(xlabels)\n",
      "C:\\Users\\Lenovo\\AppData\\Local\\Temp/ipykernel_10372/2509959811.py:10: UserWarning: FixedFormatter should only be used together with FixedLocator\n",
      "  sns.lineplot(x=deceased['Date'], y=deceased[colname], ci=None).set_xticklabels(xlabels)\n",
      "C:\\Users\\Lenovo\\AppData\\Local\\Temp/ipykernel_10372/2509959811.py:10: UserWarning: FixedFormatter should only be used together with FixedLocator\n",
      "  sns.lineplot(x=deceased['Date'], y=deceased[colname], ci=None).set_xticklabels(xlabels)\n",
      "C:\\Users\\Lenovo\\AppData\\Local\\Temp/ipykernel_10372/2509959811.py:10: UserWarning: FixedFormatter should only be used together with FixedLocator\n",
      "  sns.lineplot(x=deceased['Date'], y=deceased[colname], ci=None).set_xticklabels(xlabels)\n",
      "C:\\Users\\Lenovo\\AppData\\Local\\Temp/ipykernel_10372/2509959811.py:10: UserWarning: FixedFormatter should only be used together with FixedLocator\n",
      "  sns.lineplot(x=deceased['Date'], y=deceased[colname], ci=None).set_xticklabels(xlabels)\n",
      "C:\\Users\\Lenovo\\AppData\\Local\\Temp/ipykernel_10372/2509959811.py:10: UserWarning: FixedFormatter should only be used together with FixedLocator\n",
      "  sns.lineplot(x=deceased['Date'], y=deceased[colname], ci=None).set_xticklabels(xlabels)\n",
      "C:\\Users\\Lenovo\\AppData\\Local\\Temp/ipykernel_10372/2509959811.py:10: UserWarning: FixedFormatter should only be used together with FixedLocator\n",
      "  sns.lineplot(x=deceased['Date'], y=deceased[colname], ci=None).set_xticklabels(xlabels)\n",
      "C:\\Users\\Lenovo\\AppData\\Local\\Temp/ipykernel_10372/2509959811.py:10: UserWarning: FixedFormatter should only be used together with FixedLocator\n",
      "  sns.lineplot(x=deceased['Date'], y=deceased[colname], ci=None).set_xticklabels(xlabels)\n",
      "C:\\Users\\Lenovo\\AppData\\Local\\Temp/ipykernel_10372/2509959811.py:10: UserWarning: FixedFormatter should only be used together with FixedLocator\n",
      "  sns.lineplot(x=deceased['Date'], y=deceased[colname], ci=None).set_xticklabels(xlabels)\n"
     ]
    },
    {
     "data": {
      "text/plain": [
       "<Figure size 576x288 with 0 Axes>"
      ]
     },
     "metadata": {},
     "output_type": "display_data"
    },
    {
     "data": {
      "text/plain": [
       "<Figure size 576x288 with 0 Axes>"
      ]
     },
     "metadata": {},
     "output_type": "display_data"
    },
    {
     "data": {
      "text/plain": [
       "<Figure size 576x288 with 0 Axes>"
      ]
     },
     "metadata": {},
     "output_type": "display_data"
    },
    {
     "data": {
      "text/plain": [
       "<Figure size 576x288 with 0 Axes>"
      ]
     },
     "metadata": {},
     "output_type": "display_data"
    },
    {
     "data": {
      "text/plain": [
       "<Figure size 576x288 with 0 Axes>"
      ]
     },
     "metadata": {},
     "output_type": "display_data"
    },
    {
     "data": {
      "text/plain": [
       "<Figure size 576x288 with 0 Axes>"
      ]
     },
     "metadata": {},
     "output_type": "display_data"
    },
    {
     "data": {
      "text/plain": [
       "<Figure size 576x288 with 0 Axes>"
      ]
     },
     "metadata": {},
     "output_type": "display_data"
    },
    {
     "data": {
      "text/plain": [
       "<Figure size 576x288 with 0 Axes>"
      ]
     },
     "metadata": {},
     "output_type": "display_data"
    },
    {
     "data": {
      "text/plain": [
       "<Figure size 576x288 with 0 Axes>"
      ]
     },
     "metadata": {},
     "output_type": "display_data"
    },
    {
     "data": {
      "text/plain": [
       "<Figure size 576x288 with 0 Axes>"
      ]
     },
     "metadata": {},
     "output_type": "display_data"
    },
    {
     "data": {
      "text/plain": [
       "<Figure size 576x288 with 0 Axes>"
      ]
     },
     "metadata": {},
     "output_type": "display_data"
    },
    {
     "data": {
      "text/plain": [
       "<Figure size 576x288 with 0 Axes>"
      ]
     },
     "metadata": {},
     "output_type": "display_data"
    },
    {
     "data": {
      "text/plain": [
       "<Figure size 576x288 with 0 Axes>"
      ]
     },
     "metadata": {},
     "output_type": "display_data"
    },
    {
     "data": {
      "text/plain": [
       "<Figure size 576x288 with 0 Axes>"
      ]
     },
     "metadata": {},
     "output_type": "display_data"
    },
    {
     "data": {
      "text/plain": [
       "<Figure size 576x288 with 0 Axes>"
      ]
     },
     "metadata": {},
     "output_type": "display_data"
    },
    {
     "data": {
      "text/plain": [
       "<Figure size 576x288 with 0 Axes>"
      ]
     },
     "metadata": {},
     "output_type": "display_data"
    },
    {
     "data": {
      "text/plain": [
       "<Figure size 576x288 with 0 Axes>"
      ]
     },
     "metadata": {},
     "output_type": "display_data"
    },
    {
     "data": {
      "text/plain": [
       "<Figure size 576x288 with 0 Axes>"
      ]
     },
     "metadata": {},
     "output_type": "display_data"
    },
    {
     "data": {
      "text/plain": [
       "<Figure size 576x288 with 0 Axes>"
      ]
     },
     "metadata": {},
     "output_type": "display_data"
    },
    {
     "data": {
      "text/plain": [
       "<Figure size 576x288 with 0 Axes>"
      ]
     },
     "metadata": {},
     "output_type": "display_data"
    },
    {
     "data": {
      "text/plain": [
       "<Figure size 576x288 with 0 Axes>"
      ]
     },
     "metadata": {},
     "output_type": "display_data"
    },
    {
     "data": {
      "text/plain": [
       "<Figure size 576x288 with 0 Axes>"
      ]
     },
     "metadata": {},
     "output_type": "display_data"
    },
    {
     "data": {
      "text/plain": [
       "<Figure size 576x288 with 0 Axes>"
      ]
     },
     "metadata": {},
     "output_type": "display_data"
    },
    {
     "data": {
      "text/plain": [
       "<Figure size 576x288 with 0 Axes>"
      ]
     },
     "metadata": {},
     "output_type": "display_data"
    },
    {
     "data": {
      "text/plain": [
       "<Figure size 576x288 with 0 Axes>"
      ]
     },
     "metadata": {},
     "output_type": "display_data"
    },
    {
     "data": {
      "text/plain": [
       "<Figure size 576x288 with 0 Axes>"
      ]
     },
     "metadata": {},
     "output_type": "display_data"
    },
    {
     "data": {
      "text/plain": [
       "<Figure size 576x288 with 0 Axes>"
      ]
     },
     "metadata": {},
     "output_type": "display_data"
    },
    {
     "data": {
      "text/plain": [
       "<Figure size 576x288 with 0 Axes>"
      ]
     },
     "metadata": {},
     "output_type": "display_data"
    },
    {
     "data": {
      "text/plain": [
       "<Figure size 576x288 with 0 Axes>"
      ]
     },
     "metadata": {},
     "output_type": "display_data"
    },
    {
     "data": {
      "text/plain": [
       "<Figure size 576x288 with 0 Axes>"
      ]
     },
     "metadata": {},
     "output_type": "display_data"
    },
    {
     "data": {
      "text/plain": [
       "<Figure size 576x288 with 0 Axes>"
      ]
     },
     "metadata": {},
     "output_type": "display_data"
    },
    {
     "data": {
      "text/plain": [
       "<Figure size 576x288 with 0 Axes>"
      ]
     },
     "metadata": {},
     "output_type": "display_data"
    },
    {
     "data": {
      "text/plain": [
       "<Figure size 576x288 with 0 Axes>"
      ]
     },
     "metadata": {},
     "output_type": "display_data"
    },
    {
     "data": {
      "text/plain": [
       "<Figure size 576x288 with 0 Axes>"
      ]
     },
     "metadata": {},
     "output_type": "display_data"
    },
    {
     "data": {
      "text/plain": [
       "<Figure size 576x288 with 0 Axes>"
      ]
     },
     "metadata": {},
     "output_type": "display_data"
    },
    {
     "data": {
      "text/plain": [
       "<Figure size 576x288 with 0 Axes>"
      ]
     },
     "metadata": {},
     "output_type": "display_data"
    },
    {
     "data": {
      "text/plain": [
       "<Figure size 576x288 with 0 Axes>"
      ]
     },
     "metadata": {},
     "output_type": "display_data"
    }
   ],
   "source": [
    "# Make graphs for deceased and save an image\n",
    "for j in range(len(deceased.columns)):\n",
    "    if j == 0: # seeing if it is date column\n",
    "        continue\n",
    "\n",
    "    colname = deceased.columns[j]\n",
    "    fname = f'imgs/deceased-{colname}.png'\n",
    "\n",
    "    fig = plt.figure(figsize=(8, 4))\n",
    "    sns.lineplot(x=deceased['Date'], y=deceased[colname], ci=None).set_xticklabels(xlabels)\n",
    "    fig.savefig(fname)\n",
    "    plt.clf()"
   ]
  },
  {
   "cell_type": "code",
   "execution_count": 8,
   "metadata": {},
   "outputs": [
    {
     "name": "stdout",
     "output_type": "stream",
     "text": [
      "280.24050855636597\n"
     ]
    }
   ],
   "source": [
    "print(time.time() - st)"
   ]
  }
 ],
 "metadata": {
  "interpreter": {
   "hash": "2754d3a67fdc5c55984a5749a83be3c5e2897f7d86a1fc8f037effd16c6af8ef"
  },
  "kernelspec": {
   "display_name": "Python 3.9.8 64-bit (windows store)",
   "language": "python",
   "name": "python3"
  },
  "language_info": {
   "codemirror_mode": {
    "name": "ipython",
    "version": 3
   },
   "file_extension": ".py",
   "mimetype": "text/x-python",
   "name": "python",
   "nbconvert_exporter": "python",
   "pygments_lexer": "ipython3",
   "version": "3.9.9"
  },
  "orig_nbformat": 4
 },
 "nbformat": 4,
 "nbformat_minor": 2
}
